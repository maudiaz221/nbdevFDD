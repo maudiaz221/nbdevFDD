{
 "cells": [
  {
   "cell_type": "markdown",
   "metadata": {},
   "source": [
    "# Lista de Supermercado\n",
    "> Esta es la lista de supermercado"
   ]
  },
  {
   "cell_type": "code",
   "execution_count": null,
   "metadata": {},
   "outputs": [],
   "source": [
    "#| default_exp listaDeSuper"
   ]
  },
  {
   "cell_type": "code",
   "execution_count": null,
   "metadata": {},
   "outputs": [],
   "source": [
    "#| hide\n",
    "from typing import List\n",
    "from nbdev.showdoc import *\n",
    "from nbdevFDD.Articulo import *\n",
    "from fastcore.test import *\n",
    "from fastcore.basics import *"
   ]
  },
  {
   "cell_type": "code",
   "execution_count": null,
   "metadata": {},
   "outputs": [],
   "source": [
    "#| export\n",
    "class listaDeSuper:\n",
    "    '''\n",
    "    Clase que representa una lista de compras de supermercado.\n",
    "\n",
    "    Attributes:\n",
    "        articulos (List[Articulo]): Lista que contiene objetos de la clase Articulo, representando los artículos en la lista de compras.\n",
    "\n",
    "    '''\n",
    "    def __init__(self, articulos: List[Articulo] = None) -> None:\n",
    "        '''\n",
    "        Inicializa una nueva instancia de la lista de compras.\n",
    "\n",
    "        Args:\n",
    "            articulos (List[Articulo]): Lista de artículos de la lista de supermercado.\n",
    "\n",
    "        '''\n",
    "        self.articulos = articulos if articulos else []\n",
    "        \n",
    "    def Articulos(self) -> str:\n",
    "        \"\"\"\n",
    "        Devuelve una representación en cadena de los artículos de la lista de compras.\n",
    "\n",
    "        Returns:\n",
    "            str: Cadena que representa los artículos de la lista de compras.\n",
    "\n",
    "        \"\"\"\n",
    "        resp = ''\n",
    "        for articulo in self.articulos:\n",
    "            resp += str(articulo) + ', '\n",
    "        return resp\n",
    "    \n",
    "    def articulosNoAgregado(self) -> str:\n",
    "        \"\"\"\n",
    "        Devuelve una cadena que contiene los nombres de los artículos que no han sido agregados.\n",
    "\n",
    "        Returns:\n",
    "            str: Cadena que representa los nombres de los artículos no agregados.\n",
    "\n",
    "        \"\"\"\n",
    "        noAgregados = ''\n",
    "        for articulo in self.articulos:\n",
    "            if not articulo.agregado:\n",
    "                noAgregados += articulo.nombre + ', '\n",
    "        return noAgregados\n",
    "    \n",
    "    def subirArticuloEnLista(self, nombre: str, precio: float, cantidad: int, agregado: bool = False) -> bool:\n",
    "        '''\n",
    "        Agrega un nuevo artículo a la lista de compras.\n",
    "\n",
    "        Args:\n",
    "            nombre (str): Nombre del artículo.\n",
    "            precio (float): Precio del artículo.\n",
    "            cantidad (int): Cantidad del artículo.\n",
    "            agregado (bool): Indicador de si el artículo fue agregado.\n",
    "\n",
    "        Returns:\n",
    "            bool: True si el artículo se agregó correctamente, False si ya estaba en la lista.\n",
    "\n",
    "        '''\n",
    "        nuevo_articulo = Articulo(nombre=nombre, precio=precio, cantidad=cantidad, agregado=agregado)\n",
    "        if nuevo_articulo not in self.articulos:\n",
    "            self.articulos.append(nuevo_articulo)\n",
    "            return True\n",
    "        else:\n",
    "            return False\n",
    "    \n",
    "    def agregarArticulo(self, nombre_articulo: str) -> bool:\n",
    "        \"\"\"\n",
    "        Agrega un artículo a la lista de compras.\n",
    "\n",
    "        Args:\n",
    "            nombre_articulo (str): Nombre del artículo que se va a agregar.\n",
    "\n",
    "        Returns:\n",
    "            bool: True si el artículo se agregó correctamente, False si ya estaba agregado.\n",
    "\n",
    "        \"\"\"\n",
    "        for articulo in self.articulos:\n",
    "            if articulo.nombre == nombre_articulo:\n",
    "                if not articulo.agregado:\n",
    "                    articulo.agregado = True\n",
    "                    return True\n",
    "                else:\n",
    "                    return False\n",
    "\n",
    "        # Si el artículo no es encontrado en la lista\n",
    "        return False\n"
   ]
  },
  {
   "cell_type": "code",
   "execution_count": null,
   "metadata": {},
   "outputs": [
    {
     "data": {
      "text/markdown": [
       "---\n",
       "\n",
       "[source](https://github.com/maudiaz221/nbdevFDD/blob/main/nbdevFDD/supermercado.py#L7){target=\"_blank\" style=\"float:right; font-size:smaller\"}\n",
       "\n",
       "### listaDeSuper\n",
       "\n",
       ">      listaDeSuper (articulos:List[nbdevFDD.Articulo.Articulo]=None)\n",
       "\n",
       "Clase que representa una lista de compras de supermercado.\n",
       "\n",
       "Attributes:\n",
       "    articulos (List[Articulo]): Lista que contiene objetos de la clase Articulo, representando los artículos en la lista de compras."
      ],
      "text/plain": [
       "---\n",
       "\n",
       "[source](https://github.com/maudiaz221/nbdevFDD/blob/main/nbdevFDD/supermercado.py#L7){target=\"_blank\" style=\"float:right; font-size:smaller\"}\n",
       "\n",
       "### listaDeSuper\n",
       "\n",
       ">      listaDeSuper (articulos:List[nbdevFDD.Articulo.Articulo]=None)\n",
       "\n",
       "Clase que representa una lista de compras de supermercado.\n",
       "\n",
       "Attributes:\n",
       "    articulos (List[Articulo]): Lista que contiene objetos de la clase Articulo, representando los artículos en la lista de compras."
      ]
     },
     "execution_count": null,
     "metadata": {},
     "output_type": "execute_result"
    }
   ],
   "source": [
    "show_doc(listaDeSuper)"
   ]
  },
  {
   "cell_type": "markdown",
   "metadata": {},
   "source": [
    "# Metodos\n",
    ">listaDeSuper"
   ]
  },
  {
   "cell_type": "markdown",
   "metadata": {},
   "source": [
    "La lista de super se inicializa con una lista vacia de todos los articulos"
   ]
  },
  {
   "cell_type": "code",
   "execution_count": null,
   "metadata": {},
   "outputs": [
    {
     "data": {
      "text/markdown": [
       "---\n",
       "\n",
       "### listaDeSuper.subirArticuloEnLista\n",
       "\n",
       ">      listaDeSuper.subirArticuloEnLista (nombre:str, precio:float,\n",
       ">                                         cantidad:int, agregado:bool=False)\n",
       "\n",
       "Agrega un nuevo artículo a la lista de compras.\n",
       "\n",
       "Args:\n",
       "    nombre (str): Nombre del artículo.\n",
       "    precio (float): Precio del artículo.\n",
       "    cantidad (int): Cantidad del artículo.\n",
       "    agregado (bool): Indicador de si el artículo fue agregado.\n",
       "\n",
       "Returns:\n",
       "    bool: True si el artículo se agregó correctamente, False si ya estaba en la lista."
      ],
      "text/plain": [
       "---\n",
       "\n",
       "### listaDeSuper.subirArticuloEnLista\n",
       "\n",
       ">      listaDeSuper.subirArticuloEnLista (nombre:str, precio:float,\n",
       ">                                         cantidad:int, agregado:bool=False)\n",
       "\n",
       "Agrega un nuevo artículo a la lista de compras.\n",
       "\n",
       "Args:\n",
       "    nombre (str): Nombre del artículo.\n",
       "    precio (float): Precio del artículo.\n",
       "    cantidad (int): Cantidad del artículo.\n",
       "    agregado (bool): Indicador de si el artículo fue agregado.\n",
       "\n",
       "Returns:\n",
       "    bool: True si el artículo se agregó correctamente, False si ya estaba en la lista."
      ]
     },
     "execution_count": null,
     "metadata": {},
     "output_type": "execute_result"
    }
   ],
   "source": [
    "show_doc(listaDeSuper.subirArticuloEnLista)"
   ]
  },
  {
   "cell_type": "code",
   "execution_count": null,
   "metadata": {},
   "outputs": [
    {
     "data": {
      "text/markdown": [
       "---\n",
       "\n",
       "### listaDeSuper.agregarArticulo\n",
       "\n",
       ">      listaDeSuper.agregarArticulo (nombre_articulo:str)\n",
       "\n",
       "Agrega un artículo a la lista de compras.\n",
       "\n",
       "Args:\n",
       "    nombre_articulo (str): Nombre del artículo que se va a agregar.\n",
       "\n",
       "Returns:\n",
       "    bool: True si el artículo se agregó correctamente, False si ya estaba agregado."
      ],
      "text/plain": [
       "---\n",
       "\n",
       "### listaDeSuper.agregarArticulo\n",
       "\n",
       ">      listaDeSuper.agregarArticulo (nombre_articulo:str)\n",
       "\n",
       "Agrega un artículo a la lista de compras.\n",
       "\n",
       "Args:\n",
       "    nombre_articulo (str): Nombre del artículo que se va a agregar.\n",
       "\n",
       "Returns:\n",
       "    bool: True si el artículo se agregó correctamente, False si ya estaba agregado."
      ]
     },
     "execution_count": null,
     "metadata": {},
     "output_type": "execute_result"
    }
   ],
   "source": [
    "show_doc(listaDeSuper.agregarArticulo)"
   ]
  },
  {
   "cell_type": "code",
   "execution_count": null,
   "metadata": {},
   "outputs": [
    {
     "data": {
      "text/markdown": [
       "---\n",
       "\n",
       "### listaDeSuper.Articulos\n",
       "\n",
       ">      listaDeSuper.Articulos ()\n",
       "\n",
       "Devuelve una representación en cadena de los artículos de la lista de compras.\n",
       "\n",
       "Returns:\n",
       "    str: Cadena que representa los artículos de la lista de compras."
      ],
      "text/plain": [
       "---\n",
       "\n",
       "### listaDeSuper.Articulos\n",
       "\n",
       ">      listaDeSuper.Articulos ()\n",
       "\n",
       "Devuelve una representación en cadena de los artículos de la lista de compras.\n",
       "\n",
       "Returns:\n",
       "    str: Cadena que representa los artículos de la lista de compras."
      ]
     },
     "execution_count": null,
     "metadata": {},
     "output_type": "execute_result"
    }
   ],
   "source": [
    "show_doc(listaDeSuper.Articulos)"
   ]
  },
  {
   "cell_type": "code",
   "execution_count": null,
   "metadata": {},
   "outputs": [
    {
     "data": {
      "text/markdown": [
       "---\n",
       "\n",
       "### listaDeSuper.articulosNoAgregado\n",
       "\n",
       ">      listaDeSuper.articulosNoAgregado ()\n",
       "\n",
       "Devuelve una cadena que contiene los nombres de los artículos que no han sido agregados.\n",
       "\n",
       "Returns:\n",
       "    str: Cadena que representa los nombres de los artículos no agregados."
      ],
      "text/plain": [
       "---\n",
       "\n",
       "### listaDeSuper.articulosNoAgregado\n",
       "\n",
       ">      listaDeSuper.articulosNoAgregado ()\n",
       "\n",
       "Devuelve una cadena que contiene los nombres de los artículos que no han sido agregados.\n",
       "\n",
       "Returns:\n",
       "    str: Cadena que representa los nombres de los artículos no agregados."
      ]
     },
     "execution_count": null,
     "metadata": {},
     "output_type": "execute_result"
    }
   ],
   "source": [
    "show_doc(listaDeSuper.articulosNoAgregado)"
   ]
  },
  {
   "cell_type": "markdown",
   "metadata": {},
   "source": [
    "## Prueba de Lista De Super"
   ]
  },
  {
   "cell_type": "code",
   "execution_count": null,
   "metadata": {},
   "outputs": [],
   "source": [
    "lista = listaDeSuper()\n"
   ]
  },
  {
   "cell_type": "markdown",
   "metadata": {},
   "source": [
    "Agregamos articulos\n"
   ]
  },
  {
   "cell_type": "code",
   "execution_count": null,
   "metadata": {},
   "outputs": [
    {
     "data": {
      "text/plain": [
       "True"
      ]
     },
     "execution_count": null,
     "metadata": {},
     "output_type": "execute_result"
    }
   ],
   "source": [
    "lista.subirArticuloEnLista('manzana', 10, 2)\n",
    "lista.subirArticuloEnLista('pera', 10, 2)\n",
    "lista.subirArticuloEnLista('coca', 10, 2)"
   ]
  },
  {
   "cell_type": "markdown",
   "metadata": {},
   "source": [
    "Imprimos articulos"
   ]
  },
  {
   "cell_type": "code",
   "execution_count": null,
   "metadata": {},
   "outputs": [
    {
     "data": {
      "text/plain": [
       "'Artículo: manzana Precio: 10 Cantidad: 2 Fue agregado: False, Artículo: pera Precio: 10 Cantidad: 2 Fue agregado: False, Artículo: coca Precio: 10 Cantidad: 2 Fue agregado: False, '"
      ]
     },
     "execution_count": null,
     "metadata": {},
     "output_type": "execute_result"
    }
   ],
   "source": [
    "lista.Articulos()"
   ]
  },
  {
   "cell_type": "markdown",
   "metadata": {},
   "source": [
    "Pon un articulo como agregado"
   ]
  },
  {
   "cell_type": "code",
   "execution_count": null,
   "metadata": {},
   "outputs": [
    {
     "data": {
      "text/plain": [
       "True"
      ]
     },
     "execution_count": null,
     "metadata": {},
     "output_type": "execute_result"
    }
   ],
   "source": [
    "lista.agregarArticulo('manzana')"
   ]
  },
  {
   "cell_type": "markdown",
   "metadata": {},
   "source": [
    "lista de articulos no agregados para ver que ya no esta manzana"
   ]
  },
  {
   "cell_type": "code",
   "execution_count": null,
   "metadata": {},
   "outputs": [
    {
     "data": {
      "text/plain": [
       "'pera, coca, '"
      ]
     },
     "execution_count": null,
     "metadata": {},
     "output_type": "execute_result"
    }
   ],
   "source": [
    "lista.articulosNoAgregado()"
   ]
  },
  {
   "cell_type": "code",
   "execution_count": null,
   "metadata": {},
   "outputs": [],
   "source": [
    "#| hide\n",
    "import nbdev; nbdev.nbdev_export()"
   ]
  }
 ],
 "metadata": {
  "kernelspec": {
   "display_name": "python3",
   "language": "python",
   "name": "python3"
  }
 },
 "nbformat": 4,
 "nbformat_minor": 2
}
