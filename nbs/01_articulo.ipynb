{
 "cells": [
  {
   "cell_type": "markdown",
   "metadata": {},
   "source": [
    "# Articulo\n",
    ">Clase de objeto articulo"
   ]
  },
  {
   "cell_type": "code",
   "execution_count": null,
   "metadata": {},
   "outputs": [],
   "source": [
    "#| default_exp articulo"
   ]
  },
  {
   "cell_type": "code",
   "execution_count": null,
   "metadata": {},
   "outputs": [],
   "source": [
    "#| hide\n",
    "from nbdev.showdoc import *\n",
    "from fastcore.test import *\n",
    "from fastcore.basics import *"
   ]
  },
  {
   "cell_type": "code",
   "execution_count": null,
   "metadata": {},
   "outputs": [],
   "source": [
    "#| export\n",
    "class Articulo:\n",
    "    '''\n",
    "    La clase Articulo representa un artículo en un sistema de gestión de inventario. Aquí tienes una breve descripción:\n",
    "\n",
    "La clase Articulo tiene los siguientes atributos:\n",
    "\n",
    "nombre (str): El nombre del artículo.\n",
    "\n",
    "precio (float): El precio del artículo.\n",
    "\n",
    "cantidad (int): La cantidad de unidades del artículo en el inventario.\n",
    "\n",
    "agregado (bool, opcional, por defecto False): Un indicador que representa si el artículo ha sido agregado.\n",
    "\n",
    "El método __str__ proporciona una representación legible del objeto en formato de cadena, incluyendo el nombre, precio, cantidad y el estado de si fue agregado o no.\n",
    "\n",
    "La clase se utiliza para modelar y gestionar información sobre artículos en un inventario, proporcionando una manera conveniente de acceder y manipular datos relacionados con el inventario.\n",
    "'''\n",
    "    def __init__(self,\n",
    "                 nombre:str,# nombre del artículo\n",
    "                 precio:float,# precio del artículo\n",
    "                 cantidad:int,# cantidad del artículo\n",
    "                 agregado:bool=False # si fue agregado\n",
    "                 ) -> None:\n",
    "        self.nombre = nombre\n",
    "        self.precio = precio\n",
    "        self.cantidad = cantidad\n",
    "        self.agregado = agregado\n",
    "        \n",
    "    def __str__(self) -> str:\n",
    "        \"Regresa la informacion completa sobre el articulo en formato String\"\n",
    "        return f'Artículo: {self.nombre} Precio: {self.precio} Cantidad: {self.cantidad} Fue agregado: {self.agregado}'\n",
    "    __repr__=__str__"
   ]
  },
  {
   "cell_type": "code",
   "execution_count": null,
   "metadata": {},
   "outputs": [
    {
     "data": {
      "text/markdown": [
       "---\n",
       "\n",
       "### Articulo\n",
       "\n",
       ">      Articulo (nombre:str, precio:float, cantidad:int, agregado:bool=False)\n",
       "\n",
       "Initialize self.  See help(type(self)) for accurate signature.\n",
       "\n",
       "|    | **Type** | **Default** | **Details** |\n",
       "| -- | -------- | ----------- | ----------- |\n",
       "| nombre | str |  | nombre del artículo |\n",
       "| precio | float |  | precio del artículo |\n",
       "| cantidad | int |  | cantidad del artículo |\n",
       "| agregado | bool | False | si fue agregado |\n",
       "| **Returns** | **None** |  |  |"
      ],
      "text/plain": [
       "---\n",
       "\n",
       "### Articulo\n",
       "\n",
       ">      Articulo (nombre:str, precio:float, cantidad:int, agregado:bool=False)\n",
       "\n",
       "Initialize self.  See help(type(self)) for accurate signature.\n",
       "\n",
       "|    | **Type** | **Default** | **Details** |\n",
       "| -- | -------- | ----------- | ----------- |\n",
       "| nombre | str |  | nombre del artículo |\n",
       "| precio | float |  | precio del artículo |\n",
       "| cantidad | int |  | cantidad del artículo |\n",
       "| agregado | bool | False | si fue agregado |\n",
       "| **Returns** | **None** |  |  |"
      ]
     },
     "execution_count": null,
     "metadata": {},
     "output_type": "execute_result"
    }
   ],
   "source": [
    "show_doc(Articulo)"
   ]
  },
  {
   "cell_type": "markdown",
   "metadata": {},
   "source": [
    "Prueba de Crear un Articulo"
   ]
  },
  {
   "cell_type": "code",
   "execution_count": null,
   "metadata": {},
   "outputs": [],
   "source": [
    "Articulo1 = Articulo('Coca Cola', 10, 2)"
   ]
  },
  {
   "cell_type": "code",
   "execution_count": null,
   "metadata": {},
   "outputs": [],
   "source": [
    "\n",
    "#| hide\n",
    "import nbdev; nbdev.nbdev_export()\n",
    "\n"
   ]
  },
  {
   "cell_type": "code",
   "execution_count": null,
   "metadata": {},
   "outputs": [],
   "source": []
  }
 ],
 "metadata": {
  "kernelspec": {
   "display_name": "python3",
   "language": "python",
   "name": "python3"
  }
 },
 "nbformat": 4,
 "nbformat_minor": 2
}
